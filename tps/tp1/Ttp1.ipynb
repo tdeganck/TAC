{
 "cells": [
  {
   "cell_type": "markdown",
   "metadata": {},
   "source": [
    "# Scraping et API: \n",
    "\n",
    "Dans ce notebook, nous allons nous familiariser avec le web scraping et les API. \n",
    "Web Scraping : nous créons un robot qui va ouvrir la page https://max.de.wilde.web.ulb.be/camille/ et récupérer automatiquement les 51 fichiers PDF qui s'y trouvent.\n",
    "API : nous identifions une API utile pour enrichir le contenu des articles de Camille, nous créons un script pour l'interroger."
   ]
  },
  {
   "cell_type": "markdown",
   "metadata": {},
   "source": [
    "## Imports"
   ]
  },
  {
   "cell_type": "code",
   "execution_count": 1,
   "metadata": {},
   "outputs": [],
   "source": [
    "import os\n",
    "import re\n",
    "import time\n",
    "import requests\n",
    "from bs4 import BeautifulSoup\n",
    "import pandas as pd"
   ]
  },
  {
   "cell_type": "markdown",
   "metadata": {},
   "source": [
    "## Récupération des tous les liens des fichiers pdf\n",
    "\n"
   ]
  },
  {
   "cell_type": "code",
   "execution_count": 13,
   "metadata": {},
   "outputs": [
    {
     "name": "stderr",
     "output_type": "stream",
     "text": [
      "c:\\Users\\tommy\\TAC2\\TAC\\tac_venv\\Lib\\site-packages\\urllib3\\connectionpool.py:1097: InsecureRequestWarning: Unverified HTTPS request is being made to host 'max.de.wilde.web.ulb.be'. Adding certificate verification is strongly advised. See: https://urllib3.readthedocs.io/en/latest/advanced-usage.html#tls-warnings\n",
      "  warnings.warn(\n"
     ]
    }
   ],
   "source": [
    "headers = {'User-Agent': 'Mozilla/5.0 (Macintosh; Intel Mac OS X 10_10_1) AppleWebKit/537.36 (KHTML, like Gecko) Chrome/39.0.2171.95 Safari/537.36'}\n",
    "\n",
    "articles = []\n",
    "\n",
    "root_url = f\"https://max.de.wilde.web.ulb.be/camille/\"\n",
    "response = requests.get(root_url, headers=headers, verify=False)\n",
    "soup = BeautifulSoup(response.text, 'html.parser')\n",
    "for link in soup.find_all(\"a\", href=True):\n",
    "    title = link.text.strip()\n",
    "    url = root_url + link.get('href')\n",
    "    articles.append([url, title])"
   ]
  },
  {
   "cell_type": "code",
   "execution_count": 14,
   "metadata": {},
   "outputs": [
    {
     "data": {
      "text/plain": [
       "51"
      ]
     },
     "execution_count": 14,
     "metadata": {},
     "output_type": "execute_result"
    }
   ],
   "source": [
    "# Affichage du nombre d'articles récupérés\n",
    "len(articles)"
   ]
  },
  {
   "cell_type": "code",
   "execution_count": 15,
   "metadata": {},
   "outputs": [
    {
     "data": {
      "text/plain": [
       "[['https://max.de.wilde.web.ulb.be/camille/KB_JB230_1892-08-07_01-0003.pdf',\n",
       "  'KB_JB230_1892-08-07_01-0003.pdf'],\n",
       " ['https://max.de.wilde.web.ulb.be/camille/KB_JB427_1920-01-10_01-00004.pdf',\n",
       "  'KB_JB427_1920-01-10_01-00004.pdf'],\n",
       " ['https://max.de.wilde.web.ulb.be/camille/KB_JB555_1836-02-08_01-00002.pdf',\n",
       "  'KB_JB555_1836-02-08_01-00002.pdf'],\n",
       " ['https://max.de.wilde.web.ulb.be/camille/KB_JB638_1860-05-21_01-00002.pdf',\n",
       "  'KB_JB638_1860-05-21_01-00002.pdf'],\n",
       " ['https://max.de.wilde.web.ulb.be/camille/KB_JB773_1918-11-30_01-00002.pdf',\n",
       "  'KB_JB773_1918-11-30_01-00002.pdf'],\n",
       " ['https://max.de.wilde.web.ulb.be/camille/KB_JB838_1887-12-28_01-00003.pdf',\n",
       "  'KB_JB838_1887-12-28_01-00003.pdf'],\n",
       " ['https://max.de.wilde.web.ulb.be/camille/KB_JB230_1903-10-16_01-0002.pdf',\n",
       "  'KB_JB230_1903-10-16_01-0002.pdf'],\n",
       " ['https://max.de.wilde.web.ulb.be/camille/KB_JB427_1933-01-04_01-00003.pdf',\n",
       "  'KB_JB427_1933-01-04_01-00003.pdf'],\n",
       " ['https://max.de.wilde.web.ulb.be/camille/KB_JB555_1899-01-19_01-00003.pdf',\n",
       "  'KB_JB555_1899-01-19_01-00003.pdf'],\n",
       " ['https://max.de.wilde.web.ulb.be/camille/KB_JB638_1902-12-20_01-00002.pdf',\n",
       "  'KB_JB638_1902-12-20_01-00002.pdf']]"
      ]
     },
     "execution_count": 15,
     "metadata": {},
     "output_type": "execute_result"
    }
   ],
   "source": [
    "# Affichage des 10 premières entrées\n",
    "articles[:10]"
   ]
  },
  {
   "cell_type": "markdown",
   "metadata": {},
   "source": [
    "## Création d'un dataframe avec les liens et les titres des fichiers\n"
   ]
  },
  {
   "cell_type": "code",
   "execution_count": 16,
   "metadata": {},
   "outputs": [
    {
     "data": {
      "text/html": [
       "<div>\n",
       "<style scoped>\n",
       "    .dataframe tbody tr th:only-of-type {\n",
       "        vertical-align: middle;\n",
       "    }\n",
       "\n",
       "    .dataframe tbody tr th {\n",
       "        vertical-align: top;\n",
       "    }\n",
       "\n",
       "    .dataframe thead th {\n",
       "        text-align: right;\n",
       "    }\n",
       "</style>\n",
       "<table border=\"1\" class=\"dataframe\">\n",
       "  <thead>\n",
       "    <tr style=\"text-align: right;\">\n",
       "      <th></th>\n",
       "      <th>link</th>\n",
       "      <th>title</th>\n",
       "    </tr>\n",
       "  </thead>\n",
       "  <tbody>\n",
       "    <tr>\n",
       "      <th>0</th>\n",
       "      <td>https://max.de.wilde.web.ulb.be/camille/KB_JB2...</td>\n",
       "      <td>KB_JB230_1892-08-07_01-0003.pdf</td>\n",
       "    </tr>\n",
       "    <tr>\n",
       "      <th>1</th>\n",
       "      <td>https://max.de.wilde.web.ulb.be/camille/KB_JB4...</td>\n",
       "      <td>KB_JB427_1920-01-10_01-00004.pdf</td>\n",
       "    </tr>\n",
       "    <tr>\n",
       "      <th>2</th>\n",
       "      <td>https://max.de.wilde.web.ulb.be/camille/KB_JB5...</td>\n",
       "      <td>KB_JB555_1836-02-08_01-00002.pdf</td>\n",
       "    </tr>\n",
       "    <tr>\n",
       "      <th>3</th>\n",
       "      <td>https://max.de.wilde.web.ulb.be/camille/KB_JB6...</td>\n",
       "      <td>KB_JB638_1860-05-21_01-00002.pdf</td>\n",
       "    </tr>\n",
       "    <tr>\n",
       "      <th>4</th>\n",
       "      <td>https://max.de.wilde.web.ulb.be/camille/KB_JB7...</td>\n",
       "      <td>KB_JB773_1918-11-30_01-00002.pdf</td>\n",
       "    </tr>\n",
       "    <tr>\n",
       "      <th>5</th>\n",
       "      <td>https://max.de.wilde.web.ulb.be/camille/KB_JB8...</td>\n",
       "      <td>KB_JB838_1887-12-28_01-00003.pdf</td>\n",
       "    </tr>\n",
       "    <tr>\n",
       "      <th>6</th>\n",
       "      <td>https://max.de.wilde.web.ulb.be/camille/KB_JB2...</td>\n",
       "      <td>KB_JB230_1903-10-16_01-0002.pdf</td>\n",
       "    </tr>\n",
       "    <tr>\n",
       "      <th>7</th>\n",
       "      <td>https://max.de.wilde.web.ulb.be/camille/KB_JB4...</td>\n",
       "      <td>KB_JB427_1933-01-04_01-00003.pdf</td>\n",
       "    </tr>\n",
       "    <tr>\n",
       "      <th>8</th>\n",
       "      <td>https://max.de.wilde.web.ulb.be/camille/KB_JB5...</td>\n",
       "      <td>KB_JB555_1899-01-19_01-00003.pdf</td>\n",
       "    </tr>\n",
       "    <tr>\n",
       "      <th>9</th>\n",
       "      <td>https://max.de.wilde.web.ulb.be/camille/KB_JB6...</td>\n",
       "      <td>KB_JB638_1902-12-20_01-00002.pdf</td>\n",
       "    </tr>\n",
       "    <tr>\n",
       "      <th>10</th>\n",
       "      <td>https://max.de.wilde.web.ulb.be/camille/KB_JB7...</td>\n",
       "      <td>KB_JB773_1933-10-07_01-00007.pdf</td>\n",
       "    </tr>\n",
       "    <tr>\n",
       "      <th>11</th>\n",
       "      <td>https://max.de.wilde.web.ulb.be/camille/KB_JB8...</td>\n",
       "      <td>KB_JB838_1911-08-03_01-00006.pdf</td>\n",
       "    </tr>\n",
       "    <tr>\n",
       "      <th>12</th>\n",
       "      <td>https://max.de.wilde.web.ulb.be/camille/KB_JB2...</td>\n",
       "      <td>KB_JB230_1913-07-05_01-0001.pdf</td>\n",
       "    </tr>\n",
       "    <tr>\n",
       "      <th>13</th>\n",
       "      <td>https://max.de.wilde.web.ulb.be/camille/KB_JB4...</td>\n",
       "      <td>KB_JB427_1949-07-18_01-00008.pdf</td>\n",
       "    </tr>\n",
       "    <tr>\n",
       "      <th>14</th>\n",
       "      <td>https://max.de.wilde.web.ulb.be/camille/KB_JB5...</td>\n",
       "      <td>KB_JB555_1940-03-01_01-00004.pdf</td>\n",
       "    </tr>\n",
       "    <tr>\n",
       "      <th>15</th>\n",
       "      <td>https://max.de.wilde.web.ulb.be/camille/KB_JB6...</td>\n",
       "      <td>KB_JB638_1946-07-18_01-00003.pdf</td>\n",
       "    </tr>\n",
       "    <tr>\n",
       "      <th>16</th>\n",
       "      <td>https://max.de.wilde.web.ulb.be/camille/KB_JB7...</td>\n",
       "      <td>KB_JB773_1950-07-22_01-00010.pdf</td>\n",
       "    </tr>\n",
       "    <tr>\n",
       "      <th>17</th>\n",
       "      <td>https://max.de.wilde.web.ulb.be/camille/KB_JB8...</td>\n",
       "      <td>KB_JB838_1943-09-04_01-00002.pdf</td>\n",
       "    </tr>\n",
       "    <tr>\n",
       "      <th>18</th>\n",
       "      <td>https://max.de.wilde.web.ulb.be/camille/KB_JB2...</td>\n",
       "      <td>KB_JB258_1884-09-03_01-0003.pdf</td>\n",
       "    </tr>\n",
       "    <tr>\n",
       "      <th>19</th>\n",
       "      <td>https://max.de.wilde.web.ulb.be/camille/KB_JB4...</td>\n",
       "      <td>KB_JB449_1846-05-30_01-00002.pdf</td>\n",
       "    </tr>\n",
       "    <tr>\n",
       "      <th>20</th>\n",
       "      <td>https://max.de.wilde.web.ulb.be/camille/KB_JB5...</td>\n",
       "      <td>KB_JB567_1857-02-02_01-00003.pdf</td>\n",
       "    </tr>\n",
       "    <tr>\n",
       "      <th>21</th>\n",
       "      <td>https://max.de.wilde.web.ulb.be/camille/KB_JB6...</td>\n",
       "      <td>KB_JB685_1894-05-14_01-0003.pdf</td>\n",
       "    </tr>\n",
       "    <tr>\n",
       "      <th>22</th>\n",
       "      <td>https://max.de.wilde.web.ulb.be/camille/KB_JB8...</td>\n",
       "      <td>KB_JB835_1911-04-24_01-00004.pdf</td>\n",
       "    </tr>\n",
       "    <tr>\n",
       "      <th>23</th>\n",
       "      <td>https://max.de.wilde.web.ulb.be/camille/KB_JB9...</td>\n",
       "      <td>KB_JB92_1860-02-09_01-00003.pdf</td>\n",
       "    </tr>\n",
       "    <tr>\n",
       "      <th>24</th>\n",
       "      <td>https://max.de.wilde.web.ulb.be/camille/KB_JB2...</td>\n",
       "      <td>KB_JB258_1894-12-09_01-0003.pdf</td>\n",
       "    </tr>\n",
       "    <tr>\n",
       "      <th>25</th>\n",
       "      <td>https://max.de.wilde.web.ulb.be/camille/KB_JB4...</td>\n",
       "      <td>KB_JB449_1912-01-04_01-00003.pdf</td>\n",
       "    </tr>\n",
       "    <tr>\n",
       "      <th>26</th>\n",
       "      <td>https://max.de.wilde.web.ulb.be/camille/KB_JB5...</td>\n",
       "      <td>KB_JB567_1892-01-03_01-00005.pdf</td>\n",
       "    </tr>\n",
       "    <tr>\n",
       "      <th>27</th>\n",
       "      <td>https://max.de.wilde.web.ulb.be/camille/KB_JB6...</td>\n",
       "      <td>KB_JB685_1903-01-18_01-0002.pdf</td>\n",
       "    </tr>\n",
       "    <tr>\n",
       "      <th>28</th>\n",
       "      <td>https://max.de.wilde.web.ulb.be/camille/KB_JB8...</td>\n",
       "      <td>KB_JB835_1930-04-08_01-00006.pdf</td>\n",
       "    </tr>\n",
       "    <tr>\n",
       "      <th>29</th>\n",
       "      <td>https://max.de.wilde.web.ulb.be/camille/KB_JB9...</td>\n",
       "      <td>KB_JB92_1873-02-06_01-00002.pdf</td>\n",
       "    </tr>\n",
       "    <tr>\n",
       "      <th>30</th>\n",
       "      <td>https://max.de.wilde.web.ulb.be/camille/KB_JB2...</td>\n",
       "      <td>KB_JB258_1906-01-09_01-0002.pdf</td>\n",
       "    </tr>\n",
       "    <tr>\n",
       "      <th>31</th>\n",
       "      <td>https://max.de.wilde.web.ulb.be/camille/KB_JB4...</td>\n",
       "      <td>KB_JB449_1947-08-29_01-00003.pdf</td>\n",
       "    </tr>\n",
       "    <tr>\n",
       "      <th>32</th>\n",
       "      <td>https://max.de.wilde.web.ulb.be/camille/KB_JB5...</td>\n",
       "      <td>KB_JB567_1924-08-30_01-00003.pdf</td>\n",
       "    </tr>\n",
       "    <tr>\n",
       "      <th>33</th>\n",
       "      <td>https://max.de.wilde.web.ulb.be/camille/KB_JB6...</td>\n",
       "      <td>KB_JB685_1913-06-07_01-0006.pdf</td>\n",
       "    </tr>\n",
       "    <tr>\n",
       "      <th>34</th>\n",
       "      <td>https://max.de.wilde.web.ulb.be/camille/KB_JB8...</td>\n",
       "      <td>KB_JB835_1949-09-18_01-00004.pdf</td>\n",
       "    </tr>\n",
       "    <tr>\n",
       "      <th>35</th>\n",
       "      <td>https://max.de.wilde.web.ulb.be/camille/KB_JB9...</td>\n",
       "      <td>KB_JB92_1885-09-29_01-00002.pdf</td>\n",
       "    </tr>\n",
       "    <tr>\n",
       "      <th>36</th>\n",
       "      <td>https://max.de.wilde.web.ulb.be/camille/KB_JB4...</td>\n",
       "      <td>KB_JB421_1899-05-15_01-00003.pdf</td>\n",
       "    </tr>\n",
       "    <tr>\n",
       "      <th>37</th>\n",
       "      <td>https://max.de.wilde.web.ulb.be/camille/KB_JB4...</td>\n",
       "      <td>KB_JB494_1853-10-30_01-0002.pdf</td>\n",
       "    </tr>\n",
       "    <tr>\n",
       "      <th>38</th>\n",
       "      <td>https://max.de.wilde.web.ulb.be/camille/KB_JB5...</td>\n",
       "      <td>KB_JB572_1850-03-15_01-00003.pdf</td>\n",
       "    </tr>\n",
       "    <tr>\n",
       "      <th>39</th>\n",
       "      <td>https://max.de.wilde.web.ulb.be/camille/KB_JB7...</td>\n",
       "      <td>KB_JB729_1895-10-08_01-00003.pdf</td>\n",
       "    </tr>\n",
       "    <tr>\n",
       "      <th>40</th>\n",
       "      <td>https://max.de.wilde.web.ulb.be/camille/KB_JB8...</td>\n",
       "      <td>KB_JB837_1886-12-28_01-00002.pdf</td>\n",
       "    </tr>\n",
       "    <tr>\n",
       "      <th>41</th>\n",
       "      <td>https://max.de.wilde.web.ulb.be/camille/KB_JB4...</td>\n",
       "      <td>KB_JB421_1926-10-29_01-00002.pdf</td>\n",
       "    </tr>\n",
       "    <tr>\n",
       "      <th>42</th>\n",
       "      <td>https://max.de.wilde.web.ulb.be/camille/KB_JB4...</td>\n",
       "      <td>KB_JB494_1922-09-28_01-0005.pdf</td>\n",
       "    </tr>\n",
       "    <tr>\n",
       "      <th>43</th>\n",
       "      <td>https://max.de.wilde.web.ulb.be/camille/KB_JB5...</td>\n",
       "      <td>KB_JB572_1927-07-20_01-00005.pdf</td>\n",
       "    </tr>\n",
       "    <tr>\n",
       "      <th>44</th>\n",
       "      <td>https://max.de.wilde.web.ulb.be/camille/KB_JB7...</td>\n",
       "      <td>KB_JB729_1927-11-15_01-00004.pdf</td>\n",
       "    </tr>\n",
       "    <tr>\n",
       "      <th>45</th>\n",
       "      <td>https://max.de.wilde.web.ulb.be/camille/KB_JB8...</td>\n",
       "      <td>KB_JB837_1925-01-01_01-00003.pdf</td>\n",
       "    </tr>\n",
       "    <tr>\n",
       "      <th>46</th>\n",
       "      <td>https://max.de.wilde.web.ulb.be/camille/KB_JB4...</td>\n",
       "      <td>KB_JB421_1950-04-15_01-00004.pdf</td>\n",
       "    </tr>\n",
       "    <tr>\n",
       "      <th>47</th>\n",
       "      <td>https://max.de.wilde.web.ulb.be/camille/KB_JB4...</td>\n",
       "      <td>KB_JB494_1939-12-08_01-0004.pdf</td>\n",
       "    </tr>\n",
       "    <tr>\n",
       "      <th>48</th>\n",
       "      <td>https://max.de.wilde.web.ulb.be/camille/KB_JB5...</td>\n",
       "      <td>KB_JB572_1950-06-07_01-00004.pdf</td>\n",
       "    </tr>\n",
       "    <tr>\n",
       "      <th>49</th>\n",
       "      <td>https://max.de.wilde.web.ulb.be/camille/KB_JB7...</td>\n",
       "      <td>KB_JB729_1939-10-31_01-00006.pdf</td>\n",
       "    </tr>\n",
       "    <tr>\n",
       "      <th>50</th>\n",
       "      <td>https://max.de.wilde.web.ulb.be/camille/KB_JB8...</td>\n",
       "      <td>KB_JB837_1950-12-01_01-00007.pdf</td>\n",
       "    </tr>\n",
       "  </tbody>\n",
       "</table>\n",
       "</div>"
      ],
      "text/plain": [
       "                                                 link  \\\n",
       "0   https://max.de.wilde.web.ulb.be/camille/KB_JB2...   \n",
       "1   https://max.de.wilde.web.ulb.be/camille/KB_JB4...   \n",
       "2   https://max.de.wilde.web.ulb.be/camille/KB_JB5...   \n",
       "3   https://max.de.wilde.web.ulb.be/camille/KB_JB6...   \n",
       "4   https://max.de.wilde.web.ulb.be/camille/KB_JB7...   \n",
       "5   https://max.de.wilde.web.ulb.be/camille/KB_JB8...   \n",
       "6   https://max.de.wilde.web.ulb.be/camille/KB_JB2...   \n",
       "7   https://max.de.wilde.web.ulb.be/camille/KB_JB4...   \n",
       "8   https://max.de.wilde.web.ulb.be/camille/KB_JB5...   \n",
       "9   https://max.de.wilde.web.ulb.be/camille/KB_JB6...   \n",
       "10  https://max.de.wilde.web.ulb.be/camille/KB_JB7...   \n",
       "11  https://max.de.wilde.web.ulb.be/camille/KB_JB8...   \n",
       "12  https://max.de.wilde.web.ulb.be/camille/KB_JB2...   \n",
       "13  https://max.de.wilde.web.ulb.be/camille/KB_JB4...   \n",
       "14  https://max.de.wilde.web.ulb.be/camille/KB_JB5...   \n",
       "15  https://max.de.wilde.web.ulb.be/camille/KB_JB6...   \n",
       "16  https://max.de.wilde.web.ulb.be/camille/KB_JB7...   \n",
       "17  https://max.de.wilde.web.ulb.be/camille/KB_JB8...   \n",
       "18  https://max.de.wilde.web.ulb.be/camille/KB_JB2...   \n",
       "19  https://max.de.wilde.web.ulb.be/camille/KB_JB4...   \n",
       "20  https://max.de.wilde.web.ulb.be/camille/KB_JB5...   \n",
       "21  https://max.de.wilde.web.ulb.be/camille/KB_JB6...   \n",
       "22  https://max.de.wilde.web.ulb.be/camille/KB_JB8...   \n",
       "23  https://max.de.wilde.web.ulb.be/camille/KB_JB9...   \n",
       "24  https://max.de.wilde.web.ulb.be/camille/KB_JB2...   \n",
       "25  https://max.de.wilde.web.ulb.be/camille/KB_JB4...   \n",
       "26  https://max.de.wilde.web.ulb.be/camille/KB_JB5...   \n",
       "27  https://max.de.wilde.web.ulb.be/camille/KB_JB6...   \n",
       "28  https://max.de.wilde.web.ulb.be/camille/KB_JB8...   \n",
       "29  https://max.de.wilde.web.ulb.be/camille/KB_JB9...   \n",
       "30  https://max.de.wilde.web.ulb.be/camille/KB_JB2...   \n",
       "31  https://max.de.wilde.web.ulb.be/camille/KB_JB4...   \n",
       "32  https://max.de.wilde.web.ulb.be/camille/KB_JB5...   \n",
       "33  https://max.de.wilde.web.ulb.be/camille/KB_JB6...   \n",
       "34  https://max.de.wilde.web.ulb.be/camille/KB_JB8...   \n",
       "35  https://max.de.wilde.web.ulb.be/camille/KB_JB9...   \n",
       "36  https://max.de.wilde.web.ulb.be/camille/KB_JB4...   \n",
       "37  https://max.de.wilde.web.ulb.be/camille/KB_JB4...   \n",
       "38  https://max.de.wilde.web.ulb.be/camille/KB_JB5...   \n",
       "39  https://max.de.wilde.web.ulb.be/camille/KB_JB7...   \n",
       "40  https://max.de.wilde.web.ulb.be/camille/KB_JB8...   \n",
       "41  https://max.de.wilde.web.ulb.be/camille/KB_JB4...   \n",
       "42  https://max.de.wilde.web.ulb.be/camille/KB_JB4...   \n",
       "43  https://max.de.wilde.web.ulb.be/camille/KB_JB5...   \n",
       "44  https://max.de.wilde.web.ulb.be/camille/KB_JB7...   \n",
       "45  https://max.de.wilde.web.ulb.be/camille/KB_JB8...   \n",
       "46  https://max.de.wilde.web.ulb.be/camille/KB_JB4...   \n",
       "47  https://max.de.wilde.web.ulb.be/camille/KB_JB4...   \n",
       "48  https://max.de.wilde.web.ulb.be/camille/KB_JB5...   \n",
       "49  https://max.de.wilde.web.ulb.be/camille/KB_JB7...   \n",
       "50  https://max.de.wilde.web.ulb.be/camille/KB_JB8...   \n",
       "\n",
       "                               title  \n",
       "0    KB_JB230_1892-08-07_01-0003.pdf  \n",
       "1   KB_JB427_1920-01-10_01-00004.pdf  \n",
       "2   KB_JB555_1836-02-08_01-00002.pdf  \n",
       "3   KB_JB638_1860-05-21_01-00002.pdf  \n",
       "4   KB_JB773_1918-11-30_01-00002.pdf  \n",
       "5   KB_JB838_1887-12-28_01-00003.pdf  \n",
       "6    KB_JB230_1903-10-16_01-0002.pdf  \n",
       "7   KB_JB427_1933-01-04_01-00003.pdf  \n",
       "8   KB_JB555_1899-01-19_01-00003.pdf  \n",
       "9   KB_JB638_1902-12-20_01-00002.pdf  \n",
       "10  KB_JB773_1933-10-07_01-00007.pdf  \n",
       "11  KB_JB838_1911-08-03_01-00006.pdf  \n",
       "12   KB_JB230_1913-07-05_01-0001.pdf  \n",
       "13  KB_JB427_1949-07-18_01-00008.pdf  \n",
       "14  KB_JB555_1940-03-01_01-00004.pdf  \n",
       "15  KB_JB638_1946-07-18_01-00003.pdf  \n",
       "16  KB_JB773_1950-07-22_01-00010.pdf  \n",
       "17  KB_JB838_1943-09-04_01-00002.pdf  \n",
       "18   KB_JB258_1884-09-03_01-0003.pdf  \n",
       "19  KB_JB449_1846-05-30_01-00002.pdf  \n",
       "20  KB_JB567_1857-02-02_01-00003.pdf  \n",
       "21   KB_JB685_1894-05-14_01-0003.pdf  \n",
       "22  KB_JB835_1911-04-24_01-00004.pdf  \n",
       "23   KB_JB92_1860-02-09_01-00003.pdf  \n",
       "24   KB_JB258_1894-12-09_01-0003.pdf  \n",
       "25  KB_JB449_1912-01-04_01-00003.pdf  \n",
       "26  KB_JB567_1892-01-03_01-00005.pdf  \n",
       "27   KB_JB685_1903-01-18_01-0002.pdf  \n",
       "28  KB_JB835_1930-04-08_01-00006.pdf  \n",
       "29   KB_JB92_1873-02-06_01-00002.pdf  \n",
       "30   KB_JB258_1906-01-09_01-0002.pdf  \n",
       "31  KB_JB449_1947-08-29_01-00003.pdf  \n",
       "32  KB_JB567_1924-08-30_01-00003.pdf  \n",
       "33   KB_JB685_1913-06-07_01-0006.pdf  \n",
       "34  KB_JB835_1949-09-18_01-00004.pdf  \n",
       "35   KB_JB92_1885-09-29_01-00002.pdf  \n",
       "36  KB_JB421_1899-05-15_01-00003.pdf  \n",
       "37   KB_JB494_1853-10-30_01-0002.pdf  \n",
       "38  KB_JB572_1850-03-15_01-00003.pdf  \n",
       "39  KB_JB729_1895-10-08_01-00003.pdf  \n",
       "40  KB_JB837_1886-12-28_01-00002.pdf  \n",
       "41  KB_JB421_1926-10-29_01-00002.pdf  \n",
       "42   KB_JB494_1922-09-28_01-0005.pdf  \n",
       "43  KB_JB572_1927-07-20_01-00005.pdf  \n",
       "44  KB_JB729_1927-11-15_01-00004.pdf  \n",
       "45  KB_JB837_1925-01-01_01-00003.pdf  \n",
       "46  KB_JB421_1950-04-15_01-00004.pdf  \n",
       "47   KB_JB494_1939-12-08_01-0004.pdf  \n",
       "48  KB_JB572_1950-06-07_01-00004.pdf  \n",
       "49  KB_JB729_1939-10-31_01-00006.pdf  \n",
       "50  KB_JB837_1950-12-01_01-00007.pdf  "
      ]
     },
     "execution_count": 16,
     "metadata": {},
     "output_type": "execute_result"
    }
   ],
   "source": [
    "df = pd.DataFrame(articles, columns=['link', 'title'])\n",
    "df"
   ]
  },
  {
   "cell_type": "markdown",
   "metadata": {},
   "source": [
    "## Téléchargement des 51 fichiers"
   ]
  },
  {
   "cell_type": "code",
   "execution_count": 21,
   "metadata": {},
   "outputs": [
    {
     "name": "stderr",
     "output_type": "stream",
     "text": [
      "c:\\Users\\tommy\\TAC2\\TAC\\tac_venv\\Lib\\site-packages\\urllib3\\connectionpool.py:1097: InsecureRequestWarning: Unverified HTTPS request is being made to host 'max.de.wilde.web.ulb.be'. Adding certificate verification is strongly advised. See: https://urllib3.readthedocs.io/en/latest/advanced-usage.html#tls-warnings\n",
      "  warnings.warn(\n",
      "Some characters could not be decoded, and were replaced with REPLACEMENT CHARACTER.\n",
      "c:\\Users\\tommy\\TAC2\\TAC\\tac_venv\\Lib\\site-packages\\urllib3\\connectionpool.py:1097: InsecureRequestWarning: Unverified HTTPS request is being made to host 'max.de.wilde.web.ulb.be'. Adding certificate verification is strongly advised. See: https://urllib3.readthedocs.io/en/latest/advanced-usage.html#tls-warnings\n",
      "  warnings.warn(\n"
     ]
    },
    {
     "name": "stdout",
     "output_type": "stream",
     "text": [
      "✅ KB_JB230_1892-08-07_01-0003.pdf.pdf téléchargé\n",
      "✅ KB_JB427_1920-01-10_01-00004.pdf.pdf téléchargé\n"
     ]
    },
    {
     "name": "stderr",
     "output_type": "stream",
     "text": [
      "c:\\Users\\tommy\\TAC2\\TAC\\tac_venv\\Lib\\site-packages\\urllib3\\connectionpool.py:1097: InsecureRequestWarning: Unverified HTTPS request is being made to host 'max.de.wilde.web.ulb.be'. Adding certificate verification is strongly advised. See: https://urllib3.readthedocs.io/en/latest/advanced-usage.html#tls-warnings\n",
      "  warnings.warn(\n",
      "c:\\Users\\tommy\\TAC2\\TAC\\tac_venv\\Lib\\site-packages\\urllib3\\connectionpool.py:1097: InsecureRequestWarning: Unverified HTTPS request is being made to host 'max.de.wilde.web.ulb.be'. Adding certificate verification is strongly advised. See: https://urllib3.readthedocs.io/en/latest/advanced-usage.html#tls-warnings\n",
      "  warnings.warn(\n"
     ]
    },
    {
     "name": "stdout",
     "output_type": "stream",
     "text": [
      "✅ KB_JB555_1836-02-08_01-00002.pdf.pdf téléchargé\n",
      "✅ KB_JB638_1860-05-21_01-00002.pdf.pdf téléchargé\n"
     ]
    },
    {
     "name": "stderr",
     "output_type": "stream",
     "text": [
      "c:\\Users\\tommy\\TAC2\\TAC\\tac_venv\\Lib\\site-packages\\urllib3\\connectionpool.py:1097: InsecureRequestWarning: Unverified HTTPS request is being made to host 'max.de.wilde.web.ulb.be'. Adding certificate verification is strongly advised. See: https://urllib3.readthedocs.io/en/latest/advanced-usage.html#tls-warnings\n",
      "  warnings.warn(\n",
      "c:\\Users\\tommy\\TAC2\\TAC\\tac_venv\\Lib\\site-packages\\urllib3\\connectionpool.py:1097: InsecureRequestWarning: Unverified HTTPS request is being made to host 'max.de.wilde.web.ulb.be'. Adding certificate verification is strongly advised. See: https://urllib3.readthedocs.io/en/latest/advanced-usage.html#tls-warnings\n",
      "  warnings.warn(\n"
     ]
    },
    {
     "name": "stdout",
     "output_type": "stream",
     "text": [
      "✅ KB_JB773_1918-11-30_01-00002.pdf.pdf téléchargé\n"
     ]
    },
    {
     "name": "stderr",
     "output_type": "stream",
     "text": [
      "c:\\Users\\tommy\\TAC2\\TAC\\tac_venv\\Lib\\site-packages\\urllib3\\connectionpool.py:1097: InsecureRequestWarning: Unverified HTTPS request is being made to host 'max.de.wilde.web.ulb.be'. Adding certificate verification is strongly advised. See: https://urllib3.readthedocs.io/en/latest/advanced-usage.html#tls-warnings\n",
      "  warnings.warn(\n",
      "c:\\Users\\tommy\\TAC2\\TAC\\tac_venv\\Lib\\site-packages\\urllib3\\connectionpool.py:1097: InsecureRequestWarning: Unverified HTTPS request is being made to host 'max.de.wilde.web.ulb.be'. Adding certificate verification is strongly advised. See: https://urllib3.readthedocs.io/en/latest/advanced-usage.html#tls-warnings\n",
      "  warnings.warn(\n"
     ]
    },
    {
     "name": "stdout",
     "output_type": "stream",
     "text": [
      "✅ KB_JB838_1887-12-28_01-00003.pdf.pdf téléchargé\n",
      "✅ KB_JB230_1903-10-16_01-0002.pdf.pdf téléchargé\n",
      "✅ KB_JB427_1933-01-04_01-00003.pdf.pdf téléchargé\n"
     ]
    },
    {
     "name": "stderr",
     "output_type": "stream",
     "text": [
      "c:\\Users\\tommy\\TAC2\\TAC\\tac_venv\\Lib\\site-packages\\urllib3\\connectionpool.py:1097: InsecureRequestWarning: Unverified HTTPS request is being made to host 'max.de.wilde.web.ulb.be'. Adding certificate verification is strongly advised. See: https://urllib3.readthedocs.io/en/latest/advanced-usage.html#tls-warnings\n",
      "  warnings.warn(\n",
      "c:\\Users\\tommy\\TAC2\\TAC\\tac_venv\\Lib\\site-packages\\urllib3\\connectionpool.py:1097: InsecureRequestWarning: Unverified HTTPS request is being made to host 'max.de.wilde.web.ulb.be'. Adding certificate verification is strongly advised. See: https://urllib3.readthedocs.io/en/latest/advanced-usage.html#tls-warnings\n",
      "  warnings.warn(\n"
     ]
    },
    {
     "name": "stdout",
     "output_type": "stream",
     "text": [
      "✅ KB_JB555_1899-01-19_01-00003.pdf.pdf téléchargé\n"
     ]
    },
    {
     "name": "stderr",
     "output_type": "stream",
     "text": [
      "c:\\Users\\tommy\\TAC2\\TAC\\tac_venv\\Lib\\site-packages\\urllib3\\connectionpool.py:1097: InsecureRequestWarning: Unverified HTTPS request is being made to host 'max.de.wilde.web.ulb.be'. Adding certificate verification is strongly advised. See: https://urllib3.readthedocs.io/en/latest/advanced-usage.html#tls-warnings\n",
      "  warnings.warn(\n"
     ]
    },
    {
     "name": "stdout",
     "output_type": "stream",
     "text": [
      "✅ KB_JB638_1902-12-20_01-00002.pdf.pdf téléchargé\n",
      "✅ KB_JB773_1933-10-07_01-00007.pdf.pdf téléchargé\n"
     ]
    },
    {
     "name": "stderr",
     "output_type": "stream",
     "text": [
      "c:\\Users\\tommy\\TAC2\\TAC\\tac_venv\\Lib\\site-packages\\urllib3\\connectionpool.py:1097: InsecureRequestWarning: Unverified HTTPS request is being made to host 'max.de.wilde.web.ulb.be'. Adding certificate verification is strongly advised. See: https://urllib3.readthedocs.io/en/latest/advanced-usage.html#tls-warnings\n",
      "  warnings.warn(\n",
      "c:\\Users\\tommy\\TAC2\\TAC\\tac_venv\\Lib\\site-packages\\urllib3\\connectionpool.py:1097: InsecureRequestWarning: Unverified HTTPS request is being made to host 'max.de.wilde.web.ulb.be'. Adding certificate verification is strongly advised. See: https://urllib3.readthedocs.io/en/latest/advanced-usage.html#tls-warnings\n",
      "  warnings.warn(\n"
     ]
    },
    {
     "name": "stdout",
     "output_type": "stream",
     "text": [
      "✅ KB_JB838_1911-08-03_01-00006.pdf.pdf téléchargé\n"
     ]
    },
    {
     "name": "stderr",
     "output_type": "stream",
     "text": [
      "c:\\Users\\tommy\\TAC2\\TAC\\tac_venv\\Lib\\site-packages\\urllib3\\connectionpool.py:1097: InsecureRequestWarning: Unverified HTTPS request is being made to host 'max.de.wilde.web.ulb.be'. Adding certificate verification is strongly advised. See: https://urllib3.readthedocs.io/en/latest/advanced-usage.html#tls-warnings\n",
      "  warnings.warn(\n"
     ]
    },
    {
     "name": "stdout",
     "output_type": "stream",
     "text": [
      "✅ KB_JB230_1913-07-05_01-0001.pdf.pdf téléchargé\n",
      "✅ KB_JB427_1949-07-18_01-00008.pdf.pdf téléchargé\n"
     ]
    },
    {
     "name": "stderr",
     "output_type": "stream",
     "text": [
      "c:\\Users\\tommy\\TAC2\\TAC\\tac_venv\\Lib\\site-packages\\urllib3\\connectionpool.py:1097: InsecureRequestWarning: Unverified HTTPS request is being made to host 'max.de.wilde.web.ulb.be'. Adding certificate verification is strongly advised. See: https://urllib3.readthedocs.io/en/latest/advanced-usage.html#tls-warnings\n",
      "  warnings.warn(\n",
      "c:\\Users\\tommy\\TAC2\\TAC\\tac_venv\\Lib\\site-packages\\urllib3\\connectionpool.py:1097: InsecureRequestWarning: Unverified HTTPS request is being made to host 'max.de.wilde.web.ulb.be'. Adding certificate verification is strongly advised. See: https://urllib3.readthedocs.io/en/latest/advanced-usage.html#tls-warnings\n",
      "  warnings.warn(\n"
     ]
    },
    {
     "name": "stdout",
     "output_type": "stream",
     "text": [
      "✅ KB_JB555_1940-03-01_01-00004.pdf.pdf téléchargé\n"
     ]
    },
    {
     "name": "stderr",
     "output_type": "stream",
     "text": [
      "c:\\Users\\tommy\\TAC2\\TAC\\tac_venv\\Lib\\site-packages\\urllib3\\connectionpool.py:1097: InsecureRequestWarning: Unverified HTTPS request is being made to host 'max.de.wilde.web.ulb.be'. Adding certificate verification is strongly advised. See: https://urllib3.readthedocs.io/en/latest/advanced-usage.html#tls-warnings\n",
      "  warnings.warn(\n"
     ]
    },
    {
     "name": "stdout",
     "output_type": "stream",
     "text": [
      "✅ KB_JB638_1946-07-18_01-00003.pdf.pdf téléchargé\n",
      "✅ KB_JB773_1950-07-22_01-00010.pdf.pdf téléchargé\n"
     ]
    },
    {
     "name": "stderr",
     "output_type": "stream",
     "text": [
      "c:\\Users\\tommy\\TAC2\\TAC\\tac_venv\\Lib\\site-packages\\urllib3\\connectionpool.py:1097: InsecureRequestWarning: Unverified HTTPS request is being made to host 'max.de.wilde.web.ulb.be'. Adding certificate verification is strongly advised. See: https://urllib3.readthedocs.io/en/latest/advanced-usage.html#tls-warnings\n",
      "  warnings.warn(\n",
      "c:\\Users\\tommy\\TAC2\\TAC\\tac_venv\\Lib\\site-packages\\urllib3\\connectionpool.py:1097: InsecureRequestWarning: Unverified HTTPS request is being made to host 'max.de.wilde.web.ulb.be'. Adding certificate verification is strongly advised. See: https://urllib3.readthedocs.io/en/latest/advanced-usage.html#tls-warnings\n",
      "  warnings.warn(\n"
     ]
    },
    {
     "name": "stdout",
     "output_type": "stream",
     "text": [
      "✅ KB_JB838_1943-09-04_01-00002.pdf.pdf téléchargé\n"
     ]
    },
    {
     "name": "stderr",
     "output_type": "stream",
     "text": [
      "c:\\Users\\tommy\\TAC2\\TAC\\tac_venv\\Lib\\site-packages\\urllib3\\connectionpool.py:1097: InsecureRequestWarning: Unverified HTTPS request is being made to host 'max.de.wilde.web.ulb.be'. Adding certificate verification is strongly advised. See: https://urllib3.readthedocs.io/en/latest/advanced-usage.html#tls-warnings\n",
      "  warnings.warn(\n",
      "c:\\Users\\tommy\\TAC2\\TAC\\tac_venv\\Lib\\site-packages\\urllib3\\connectionpool.py:1097: InsecureRequestWarning: Unverified HTTPS request is being made to host 'max.de.wilde.web.ulb.be'. Adding certificate verification is strongly advised. See: https://urllib3.readthedocs.io/en/latest/advanced-usage.html#tls-warnings\n",
      "  warnings.warn(\n"
     ]
    },
    {
     "name": "stdout",
     "output_type": "stream",
     "text": [
      "✅ KB_JB258_1884-09-03_01-0003.pdf.pdf téléchargé\n",
      "✅ KB_JB449_1846-05-30_01-00002.pdf.pdf téléchargé\n",
      "✅ KB_JB567_1857-02-02_01-00003.pdf.pdf téléchargé\n"
     ]
    },
    {
     "name": "stderr",
     "output_type": "stream",
     "text": [
      "c:\\Users\\tommy\\TAC2\\TAC\\tac_venv\\Lib\\site-packages\\urllib3\\connectionpool.py:1097: InsecureRequestWarning: Unverified HTTPS request is being made to host 'max.de.wilde.web.ulb.be'. Adding certificate verification is strongly advised. See: https://urllib3.readthedocs.io/en/latest/advanced-usage.html#tls-warnings\n",
      "  warnings.warn(\n",
      "c:\\Users\\tommy\\TAC2\\TAC\\tac_venv\\Lib\\site-packages\\urllib3\\connectionpool.py:1097: InsecureRequestWarning: Unverified HTTPS request is being made to host 'max.de.wilde.web.ulb.be'. Adding certificate verification is strongly advised. See: https://urllib3.readthedocs.io/en/latest/advanced-usage.html#tls-warnings\n",
      "  warnings.warn(\n"
     ]
    },
    {
     "name": "stdout",
     "output_type": "stream",
     "text": [
      "✅ KB_JB685_1894-05-14_01-0003.pdf.pdf téléchargé\n",
      "✅ KB_JB835_1911-04-24_01-00004.pdf.pdf téléchargé\n"
     ]
    },
    {
     "name": "stderr",
     "output_type": "stream",
     "text": [
      "c:\\Users\\tommy\\TAC2\\TAC\\tac_venv\\Lib\\site-packages\\urllib3\\connectionpool.py:1097: InsecureRequestWarning: Unverified HTTPS request is being made to host 'max.de.wilde.web.ulb.be'. Adding certificate verification is strongly advised. See: https://urllib3.readthedocs.io/en/latest/advanced-usage.html#tls-warnings\n",
      "  warnings.warn(\n",
      "c:\\Users\\tommy\\TAC2\\TAC\\tac_venv\\Lib\\site-packages\\urllib3\\connectionpool.py:1097: InsecureRequestWarning: Unverified HTTPS request is being made to host 'max.de.wilde.web.ulb.be'. Adding certificate verification is strongly advised. See: https://urllib3.readthedocs.io/en/latest/advanced-usage.html#tls-warnings\n",
      "  warnings.warn(\n"
     ]
    },
    {
     "name": "stdout",
     "output_type": "stream",
     "text": [
      "✅ KB_JB92_1860-02-09_01-00003.pdf.pdf téléchargé\n",
      "✅ KB_JB258_1894-12-09_01-0003.pdf.pdf téléchargé\n"
     ]
    },
    {
     "name": "stderr",
     "output_type": "stream",
     "text": [
      "c:\\Users\\tommy\\TAC2\\TAC\\tac_venv\\Lib\\site-packages\\urllib3\\connectionpool.py:1097: InsecureRequestWarning: Unverified HTTPS request is being made to host 'max.de.wilde.web.ulb.be'. Adding certificate verification is strongly advised. See: https://urllib3.readthedocs.io/en/latest/advanced-usage.html#tls-warnings\n",
      "  warnings.warn(\n",
      "c:\\Users\\tommy\\TAC2\\TAC\\tac_venv\\Lib\\site-packages\\urllib3\\connectionpool.py:1097: InsecureRequestWarning: Unverified HTTPS request is being made to host 'max.de.wilde.web.ulb.be'. Adding certificate verification is strongly advised. See: https://urllib3.readthedocs.io/en/latest/advanced-usage.html#tls-warnings\n",
      "  warnings.warn(\n",
      "c:\\Users\\tommy\\TAC2\\TAC\\tac_venv\\Lib\\site-packages\\urllib3\\connectionpool.py:1097: InsecureRequestWarning: Unverified HTTPS request is being made to host 'max.de.wilde.web.ulb.be'. Adding certificate verification is strongly advised. See: https://urllib3.readthedocs.io/en/latest/advanced-usage.html#tls-warnings\n",
      "  warnings.warn(\n"
     ]
    },
    {
     "name": "stdout",
     "output_type": "stream",
     "text": [
      "✅ KB_JB449_1912-01-04_01-00003.pdf.pdf téléchargé\n",
      "✅ KB_JB567_1892-01-03_01-00005.pdf.pdf téléchargé\n"
     ]
    },
    {
     "name": "stderr",
     "output_type": "stream",
     "text": [
      "c:\\Users\\tommy\\TAC2\\TAC\\tac_venv\\Lib\\site-packages\\urllib3\\connectionpool.py:1097: InsecureRequestWarning: Unverified HTTPS request is being made to host 'max.de.wilde.web.ulb.be'. Adding certificate verification is strongly advised. See: https://urllib3.readthedocs.io/en/latest/advanced-usage.html#tls-warnings\n",
      "  warnings.warn(\n"
     ]
    },
    {
     "name": "stdout",
     "output_type": "stream",
     "text": [
      "✅ KB_JB685_1903-01-18_01-0002.pdf.pdf téléchargé\n",
      "✅ KB_JB835_1930-04-08_01-00006.pdf.pdf téléchargé\n"
     ]
    },
    {
     "name": "stderr",
     "output_type": "stream",
     "text": [
      "c:\\Users\\tommy\\TAC2\\TAC\\tac_venv\\Lib\\site-packages\\urllib3\\connectionpool.py:1097: InsecureRequestWarning: Unverified HTTPS request is being made to host 'max.de.wilde.web.ulb.be'. Adding certificate verification is strongly advised. See: https://urllib3.readthedocs.io/en/latest/advanced-usage.html#tls-warnings\n",
      "  warnings.warn(\n",
      "c:\\Users\\tommy\\TAC2\\TAC\\tac_venv\\Lib\\site-packages\\urllib3\\connectionpool.py:1097: InsecureRequestWarning: Unverified HTTPS request is being made to host 'max.de.wilde.web.ulb.be'. Adding certificate verification is strongly advised. See: https://urllib3.readthedocs.io/en/latest/advanced-usage.html#tls-warnings\n",
      "  warnings.warn(\n"
     ]
    },
    {
     "name": "stdout",
     "output_type": "stream",
     "text": [
      "✅ KB_JB92_1873-02-06_01-00002.pdf.pdf téléchargé\n"
     ]
    },
    {
     "name": "stderr",
     "output_type": "stream",
     "text": [
      "c:\\Users\\tommy\\TAC2\\TAC\\tac_venv\\Lib\\site-packages\\urllib3\\connectionpool.py:1097: InsecureRequestWarning: Unverified HTTPS request is being made to host 'max.de.wilde.web.ulb.be'. Adding certificate verification is strongly advised. See: https://urllib3.readthedocs.io/en/latest/advanced-usage.html#tls-warnings\n",
      "  warnings.warn(\n"
     ]
    },
    {
     "name": "stdout",
     "output_type": "stream",
     "text": [
      "✅ KB_JB258_1906-01-09_01-0002.pdf.pdf téléchargé\n",
      "✅ KB_JB449_1947-08-29_01-00003.pdf.pdf téléchargé\n"
     ]
    },
    {
     "name": "stderr",
     "output_type": "stream",
     "text": [
      "c:\\Users\\tommy\\TAC2\\TAC\\tac_venv\\Lib\\site-packages\\urllib3\\connectionpool.py:1097: InsecureRequestWarning: Unverified HTTPS request is being made to host 'max.de.wilde.web.ulb.be'. Adding certificate verification is strongly advised. See: https://urllib3.readthedocs.io/en/latest/advanced-usage.html#tls-warnings\n",
      "  warnings.warn(\n",
      "c:\\Users\\tommy\\TAC2\\TAC\\tac_venv\\Lib\\site-packages\\urllib3\\connectionpool.py:1097: InsecureRequestWarning: Unverified HTTPS request is being made to host 'max.de.wilde.web.ulb.be'. Adding certificate verification is strongly advised. See: https://urllib3.readthedocs.io/en/latest/advanced-usage.html#tls-warnings\n",
      "  warnings.warn(\n"
     ]
    },
    {
     "name": "stdout",
     "output_type": "stream",
     "text": [
      "✅ KB_JB567_1924-08-30_01-00003.pdf.pdf téléchargé\n"
     ]
    },
    {
     "name": "stderr",
     "output_type": "stream",
     "text": [
      "c:\\Users\\tommy\\TAC2\\TAC\\tac_venv\\Lib\\site-packages\\urllib3\\connectionpool.py:1097: InsecureRequestWarning: Unverified HTTPS request is being made to host 'max.de.wilde.web.ulb.be'. Adding certificate verification is strongly advised. See: https://urllib3.readthedocs.io/en/latest/advanced-usage.html#tls-warnings\n",
      "  warnings.warn(\n"
     ]
    },
    {
     "name": "stdout",
     "output_type": "stream",
     "text": [
      "✅ KB_JB685_1913-06-07_01-0006.pdf.pdf téléchargé\n",
      "✅ KB_JB835_1949-09-18_01-00004.pdf.pdf téléchargé\n"
     ]
    },
    {
     "name": "stderr",
     "output_type": "stream",
     "text": [
      "c:\\Users\\tommy\\TAC2\\TAC\\tac_venv\\Lib\\site-packages\\urllib3\\connectionpool.py:1097: InsecureRequestWarning: Unverified HTTPS request is being made to host 'max.de.wilde.web.ulb.be'. Adding certificate verification is strongly advised. See: https://urllib3.readthedocs.io/en/latest/advanced-usage.html#tls-warnings\n",
      "  warnings.warn(\n",
      "c:\\Users\\tommy\\TAC2\\TAC\\tac_venv\\Lib\\site-packages\\urllib3\\connectionpool.py:1097: InsecureRequestWarning: Unverified HTTPS request is being made to host 'max.de.wilde.web.ulb.be'. Adding certificate verification is strongly advised. See: https://urllib3.readthedocs.io/en/latest/advanced-usage.html#tls-warnings\n",
      "  warnings.warn(\n"
     ]
    },
    {
     "name": "stdout",
     "output_type": "stream",
     "text": [
      "✅ KB_JB92_1885-09-29_01-00002.pdf.pdf téléchargé\n",
      "✅ KB_JB421_1899-05-15_01-00003.pdf.pdf téléchargé\n"
     ]
    },
    {
     "name": "stderr",
     "output_type": "stream",
     "text": [
      "c:\\Users\\tommy\\TAC2\\TAC\\tac_venv\\Lib\\site-packages\\urllib3\\connectionpool.py:1097: InsecureRequestWarning: Unverified HTTPS request is being made to host 'max.de.wilde.web.ulb.be'. Adding certificate verification is strongly advised. See: https://urllib3.readthedocs.io/en/latest/advanced-usage.html#tls-warnings\n",
      "  warnings.warn(\n",
      "c:\\Users\\tommy\\TAC2\\TAC\\tac_venv\\Lib\\site-packages\\urllib3\\connectionpool.py:1097: InsecureRequestWarning: Unverified HTTPS request is being made to host 'max.de.wilde.web.ulb.be'. Adding certificate verification is strongly advised. See: https://urllib3.readthedocs.io/en/latest/advanced-usage.html#tls-warnings\n",
      "  warnings.warn(\n"
     ]
    },
    {
     "name": "stdout",
     "output_type": "stream",
     "text": [
      "✅ KB_JB494_1853-10-30_01-0002.pdf.pdf téléchargé\n",
      "✅ KB_JB572_1850-03-15_01-00003.pdf.pdf téléchargé\n"
     ]
    },
    {
     "name": "stderr",
     "output_type": "stream",
     "text": [
      "c:\\Users\\tommy\\TAC2\\TAC\\tac_venv\\Lib\\site-packages\\urllib3\\connectionpool.py:1097: InsecureRequestWarning: Unverified HTTPS request is being made to host 'max.de.wilde.web.ulb.be'. Adding certificate verification is strongly advised. See: https://urllib3.readthedocs.io/en/latest/advanced-usage.html#tls-warnings\n",
      "  warnings.warn(\n",
      "c:\\Users\\tommy\\TAC2\\TAC\\tac_venv\\Lib\\site-packages\\urllib3\\connectionpool.py:1097: InsecureRequestWarning: Unverified HTTPS request is being made to host 'max.de.wilde.web.ulb.be'. Adding certificate verification is strongly advised. See: https://urllib3.readthedocs.io/en/latest/advanced-usage.html#tls-warnings\n",
      "  warnings.warn(\n"
     ]
    },
    {
     "name": "stdout",
     "output_type": "stream",
     "text": [
      "✅ KB_JB729_1895-10-08_01-00003.pdf.pdf téléchargé\n",
      "✅ KB_JB837_1886-12-28_01-00002.pdf.pdf téléchargé\n"
     ]
    },
    {
     "name": "stderr",
     "output_type": "stream",
     "text": [
      "c:\\Users\\tommy\\TAC2\\TAC\\tac_venv\\Lib\\site-packages\\urllib3\\connectionpool.py:1097: InsecureRequestWarning: Unverified HTTPS request is being made to host 'max.de.wilde.web.ulb.be'. Adding certificate verification is strongly advised. See: https://urllib3.readthedocs.io/en/latest/advanced-usage.html#tls-warnings\n",
      "  warnings.warn(\n",
      "c:\\Users\\tommy\\TAC2\\TAC\\tac_venv\\Lib\\site-packages\\urllib3\\connectionpool.py:1097: InsecureRequestWarning: Unverified HTTPS request is being made to host 'max.de.wilde.web.ulb.be'. Adding certificate verification is strongly advised. See: https://urllib3.readthedocs.io/en/latest/advanced-usage.html#tls-warnings\n",
      "  warnings.warn(\n"
     ]
    },
    {
     "name": "stdout",
     "output_type": "stream",
     "text": [
      "✅ KB_JB421_1926-10-29_01-00002.pdf.pdf téléchargé\n",
      "✅ KB_JB494_1922-09-28_01-0005.pdf.pdf téléchargé\n"
     ]
    },
    {
     "name": "stderr",
     "output_type": "stream",
     "text": [
      "c:\\Users\\tommy\\TAC2\\TAC\\tac_venv\\Lib\\site-packages\\urllib3\\connectionpool.py:1097: InsecureRequestWarning: Unverified HTTPS request is being made to host 'max.de.wilde.web.ulb.be'. Adding certificate verification is strongly advised. See: https://urllib3.readthedocs.io/en/latest/advanced-usage.html#tls-warnings\n",
      "  warnings.warn(\n",
      "c:\\Users\\tommy\\TAC2\\TAC\\tac_venv\\Lib\\site-packages\\urllib3\\connectionpool.py:1097: InsecureRequestWarning: Unverified HTTPS request is being made to host 'max.de.wilde.web.ulb.be'. Adding certificate verification is strongly advised. See: https://urllib3.readthedocs.io/en/latest/advanced-usage.html#tls-warnings\n",
      "  warnings.warn(\n"
     ]
    },
    {
     "name": "stdout",
     "output_type": "stream",
     "text": [
      "✅ KB_JB572_1927-07-20_01-00005.pdf.pdf téléchargé\n",
      "✅ KB_JB729_1927-11-15_01-00004.pdf.pdf téléchargé\n"
     ]
    },
    {
     "name": "stderr",
     "output_type": "stream",
     "text": [
      "c:\\Users\\tommy\\TAC2\\TAC\\tac_venv\\Lib\\site-packages\\urllib3\\connectionpool.py:1097: InsecureRequestWarning: Unverified HTTPS request is being made to host 'max.de.wilde.web.ulb.be'. Adding certificate verification is strongly advised. See: https://urllib3.readthedocs.io/en/latest/advanced-usage.html#tls-warnings\n",
      "  warnings.warn(\n",
      "c:\\Users\\tommy\\TAC2\\TAC\\tac_venv\\Lib\\site-packages\\urllib3\\connectionpool.py:1097: InsecureRequestWarning: Unverified HTTPS request is being made to host 'max.de.wilde.web.ulb.be'. Adding certificate verification is strongly advised. See: https://urllib3.readthedocs.io/en/latest/advanced-usage.html#tls-warnings\n",
      "  warnings.warn(\n",
      "c:\\Users\\tommy\\TAC2\\TAC\\tac_venv\\Lib\\site-packages\\urllib3\\connectionpool.py:1097: InsecureRequestWarning: Unverified HTTPS request is being made to host 'max.de.wilde.web.ulb.be'. Adding certificate verification is strongly advised. See: https://urllib3.readthedocs.io/en/latest/advanced-usage.html#tls-warnings\n",
      "  warnings.warn(\n"
     ]
    },
    {
     "name": "stdout",
     "output_type": "stream",
     "text": [
      "✅ KB_JB837_1925-01-01_01-00003.pdf.pdf téléchargé\n",
      "✅ KB_JB421_1950-04-15_01-00004.pdf.pdf téléchargé\n"
     ]
    },
    {
     "name": "stderr",
     "output_type": "stream",
     "text": [
      "c:\\Users\\tommy\\TAC2\\TAC\\tac_venv\\Lib\\site-packages\\urllib3\\connectionpool.py:1097: InsecureRequestWarning: Unverified HTTPS request is being made to host 'max.de.wilde.web.ulb.be'. Adding certificate verification is strongly advised. See: https://urllib3.readthedocs.io/en/latest/advanced-usage.html#tls-warnings\n",
      "  warnings.warn(\n"
     ]
    },
    {
     "name": "stdout",
     "output_type": "stream",
     "text": [
      "✅ KB_JB494_1939-12-08_01-0004.pdf.pdf téléchargé\n"
     ]
    },
    {
     "name": "stderr",
     "output_type": "stream",
     "text": [
      "c:\\Users\\tommy\\TAC2\\TAC\\tac_venv\\Lib\\site-packages\\urllib3\\connectionpool.py:1097: InsecureRequestWarning: Unverified HTTPS request is being made to host 'max.de.wilde.web.ulb.be'. Adding certificate verification is strongly advised. See: https://urllib3.readthedocs.io/en/latest/advanced-usage.html#tls-warnings\n",
      "  warnings.warn(\n"
     ]
    },
    {
     "name": "stdout",
     "output_type": "stream",
     "text": [
      "✅ KB_JB572_1950-06-07_01-00004.pdf.pdf téléchargé\n"
     ]
    },
    {
     "name": "stderr",
     "output_type": "stream",
     "text": [
      "c:\\Users\\tommy\\TAC2\\TAC\\tac_venv\\Lib\\site-packages\\urllib3\\connectionpool.py:1097: InsecureRequestWarning: Unverified HTTPS request is being made to host 'max.de.wilde.web.ulb.be'. Adding certificate verification is strongly advised. See: https://urllib3.readthedocs.io/en/latest/advanced-usage.html#tls-warnings\n",
      "  warnings.warn(\n"
     ]
    },
    {
     "name": "stdout",
     "output_type": "stream",
     "text": [
      "✅ KB_JB729_1939-10-31_01-00006.pdf.pdf téléchargé\n",
      "✅ KB_JB837_1950-12-01_01-00007.pdf.pdf téléchargé\n"
     ]
    },
    {
     "name": "stderr",
     "output_type": "stream",
     "text": [
      "c:\\Users\\tommy\\TAC2\\TAC\\tac_venv\\Lib\\site-packages\\urllib3\\connectionpool.py:1097: InsecureRequestWarning: Unverified HTTPS request is being made to host 'max.de.wilde.web.ulb.be'. Adding certificate verification is strongly advised. See: https://urllib3.readthedocs.io/en/latest/advanced-usage.html#tls-warnings\n",
      "  warnings.warn(\n"
     ]
    }
   ],
   "source": [
    "# Récupération du premier lien du dataframe\n",
    "fichier_url = df.iloc[0][0]\n",
    "\n",
    "# Ouverture de la page\n",
    "response = requests.get(fichier_url, headers=headers, verify=False)\n",
    "soup = BeautifulSoup(response.content, 'html.parser')\n",
    "\n",
    "# Crée le dossier TAC/data s’il n’existe pas\n",
    "os.makedirs(\"PDF\")\n",
    "\n",
    "# Boucle de téléchargement\n",
    "for i, row in df.iterrows():\n",
    "    fichier_url = row[\"link\"]\n",
    "    titre = row[\"title\"] + \".pdf\"\n",
    "\n",
    "    response = requests.get(fichier_url, headers=headers, verify=False)\n",
    "\n",
    "    # 3️⃣ Enregistre les fichiers dans TAC/data\n",
    "    with open(\"PDF\" + titre, \"wb\") as f:\n",
    "        f.write(response.content)\n",
    "\n",
    "    print(f\"✅ {titre} téléchargé\")"
   ]
  },
  {
   "cell_type": "markdown",
   "metadata": {},
   "source": [
    "## Pour en savoir plus"
   ]
  },
  {
   "cell_type": "markdown",
   "metadata": {},
   "source": [
    "- Le web scraping avec Python: https://realpython.com/beautiful-soup-web-scraper-python/\n",
    "- Tutoriel sur les expressions régulières: https://www.w3schools.com/python/python_regex.asp"
   ]
  }
 ],
 "metadata": {
  "kernelspec": {
   "display_name": "tac_venv (3.11.9)",
   "language": "python",
   "name": "python3"
  },
  "language_info": {
   "codemirror_mode": {
    "name": "ipython",
    "version": 3
   },
   "file_extension": ".py",
   "mimetype": "text/x-python",
   "name": "python",
   "nbconvert_exporter": "python",
   "pygments_lexer": "ipython3",
   "version": "3.11.9"
  }
 },
 "nbformat": 4,
 "nbformat_minor": 4
}
