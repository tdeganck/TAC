{
 "cells": [
  {
   "cell_type": "markdown",
   "metadata": {},
   "source": [
    "# Conversion de fichiers PDF en fichiers TXT"
   ]
  },
  {
   "cell_type": "markdown",
   "metadata": {},
   "source": [
    "## Imports\n",
    "\n",
    "Pour utiliser ce notebook, vous devez préalablement récupérer les fichiers PDFs sur l'UV et les déposer dans le dossier `./data/pdf`\n"
   ]
  },
  {
   "cell_type": "code",
   "execution_count": 1,
   "metadata": {},
   "outputs": [],
   "source": [
    "import os\n",
    "import PyPDF2"
   ]
  },
  {
   "cell_type": "markdown",
   "metadata": {
    "tags": []
   },
   "source": [
    "## Lister les fichiers dans `data/pdf`"
   ]
  },
  {
   "cell_type": "code",
   "execution_count": 2,
   "metadata": {},
   "outputs": [
    {
     "data": {
      "text/plain": [
       "['KB_JB230_1892-08-07_01-0003.pdf.pdf',\n",
       " 'KB_JB230_1903-10-16_01-0002.pdf.pdf',\n",
       " 'KB_JB230_1913-07-05_01-0001.pdf.pdf',\n",
       " 'KB_JB258_1884-09-03_01-0003.pdf.pdf',\n",
       " 'KB_JB258_1894-12-09_01-0003.pdf.pdf',\n",
       " 'KB_JB258_1906-01-09_01-0002.pdf.pdf',\n",
       " 'KB_JB421_1899-05-15_01-00003.pdf.pdf',\n",
       " 'KB_JB421_1926-10-29_01-00002.pdf.pdf',\n",
       " 'KB_JB421_1950-04-15_01-00004.pdf.pdf',\n",
       " 'KB_JB427_1920-01-10_01-00004.pdf.pdf']"
      ]
     },
     "execution_count": 2,
     "metadata": {},
     "output_type": "execute_result"
    }
   ],
   "source": [
    "pdf_path = '../data/pdf'\n",
    "\n",
    "pdfs = []\n",
    "for f in os.listdir(pdf_path):\n",
    "    if os.path.isfile(os.path.join(pdf_path, f)):\n",
    "        pdfs.append(f)\n",
    "pdfs[:10]"
   ]
  },
  {
   "cell_type": "markdown",
   "metadata": {},
   "source": [
    "## Créer un répertoire TXT s'il n'existe pas encore"
   ]
  },
  {
   "cell_type": "code",
   "execution_count": 3,
   "metadata": {},
   "outputs": [],
   "source": [
    "txt_path = '../data/txt'\n",
    "if not os.path.exists(txt_path):\n",
    "    os.mkdir(txt_path)"
   ]
  },
  {
   "cell_type": "markdown",
   "metadata": {},
   "source": [
    "## Lister les fichiers dans `data/txt`"
   ]
  },
  {
   "cell_type": "code",
   "execution_count": 4,
   "metadata": {},
   "outputs": [
    {
     "data": {
      "text/plain": [
       "[]"
      ]
     },
     "execution_count": 4,
     "metadata": {},
     "output_type": "execute_result"
    }
   ],
   "source": [
    "txts = []\n",
    "for f in os.listdir(txt_path):\n",
    "    if os.path.isfile(os.path.join(txt_path, f)):\n",
    "        txts.append(f)\n",
    "txts[:10]"
   ]
  },
  {
   "cell_type": "code",
   "execution_count": 5,
   "metadata": {},
   "outputs": [
    {
     "name": "stdout",
     "output_type": "stream",
     "text": [
      "['KB_JB230_1892-08-07_01-0003.pdf.pdf', 'KB_JB230_1903-10-16_01-0002.pdf.pdf', 'KB_JB230_1913-07-05_01-0001.pdf.pdf', 'KB_JB258_1884-09-03_01-0003.pdf.pdf', 'KB_JB258_1894-12-09_01-0003.pdf.pdf', 'KB_JB258_1906-01-09_01-0002.pdf.pdf', 'KB_JB421_1899-05-15_01-00003.pdf.pdf', 'KB_JB421_1926-10-29_01-00002.pdf.pdf', 'KB_JB421_1950-04-15_01-00004.pdf.pdf', 'KB_JB427_1920-01-10_01-00004.pdf.pdf', 'KB_JB427_1933-01-04_01-00003.pdf.pdf', 'KB_JB427_1949-07-18_01-00008.pdf.pdf', 'KB_JB449_1846-05-30_01-00002.pdf.pdf', 'KB_JB449_1912-01-04_01-00003.pdf.pdf', 'KB_JB449_1947-08-29_01-00003.pdf.pdf', 'KB_JB494_1853-10-30_01-0002.pdf.pdf', 'KB_JB494_1922-09-28_01-0005.pdf.pdf', 'KB_JB494_1939-12-08_01-0004.pdf.pdf', 'KB_JB555_1836-02-08_01-00002.pdf.pdf', 'KB_JB555_1899-01-19_01-00003.pdf.pdf', 'KB_JB555_1940-03-01_01-00004.pdf.pdf', 'KB_JB567_1857-02-02_01-00003.pdf.pdf', 'KB_JB567_1892-01-03_01-00005.pdf.pdf', 'KB_JB567_1924-08-30_01-00003.pdf.pdf', 'KB_JB572_1850-03-15_01-00003.pdf.pdf', 'KB_JB572_1927-07-20_01-00005.pdf.pdf', 'KB_JB572_1950-06-07_01-00004.pdf.pdf', 'KB_JB638_1860-05-21_01-00002.pdf.pdf', 'KB_JB638_1902-12-20_01-00002.pdf.pdf', 'KB_JB638_1946-07-18_01-00003.pdf.pdf', 'KB_JB685_1894-05-14_01-0003.pdf.pdf', 'KB_JB685_1903-01-18_01-0002.pdf.pdf', 'KB_JB685_1913-06-07_01-0006.pdf.pdf', 'KB_JB729_1895-10-08_01-00003.pdf.pdf', 'KB_JB729_1927-11-15_01-00004.pdf.pdf', 'KB_JB729_1939-10-31_01-00006.pdf.pdf', 'KB_JB773_1918-11-30_01-00002.pdf.pdf', 'KB_JB773_1933-10-07_01-00007.pdf.pdf', 'KB_JB773_1950-07-22_01-00010.pdf.pdf', 'KB_JB835_1911-04-24_01-00004.pdf.pdf', 'KB_JB835_1930-04-08_01-00006.pdf.pdf', 'KB_JB835_1949-09-18_01-00004.pdf.pdf', 'KB_JB837_1886-12-28_01-00002.pdf.pdf', 'KB_JB837_1925-01-01_01-00003.pdf.pdf', 'KB_JB837_1950-12-01_01-00007.pdf.pdf', 'KB_JB838_1887-12-28_01-00003.pdf.pdf', 'KB_JB838_1911-08-03_01-00006.pdf.pdf', 'KB_JB838_1943-09-04_01-00002.pdf.pdf', 'KB_JB92_1860-02-09_01-00003.pdf.pdf', 'KB_JB92_1873-02-06_01-00002.pdf.pdf', 'KB_JB92_1885-09-29_01-00002.pdf.pdf']\n"
     ]
    }
   ],
   "source": [
    "#  Lister les fichiers pdf qui n'ont pas encore été convertis en txt\n",
    "not_converted_pdfs = []\n",
    "for pdf in pdfs:\n",
    "    file_name = os.path.splitext(pdf)[0]\n",
    "    if file_name + \".txt\" not in txts:\n",
    "        not_converted_pdfs.append(pdf)\n",
    "len(not_converted_pdfs)\n",
    "print(not_converted_pdfs)"
   ]
  },
  {
   "cell_type": "markdown",
   "metadata": {},
   "source": [
    "## Convertir les fichiers PDFs en TXT"
   ]
  },
  {
   "cell_type": "code",
   "execution_count": 6,
   "metadata": {},
   "outputs": [],
   "source": [
    "for pdf in not_converted_pdfs:\n",
    "    # Open the PDF file\n",
    "    pdf_file = open(os.path.join(pdf_path, pdf), \"rb\")\n",
    "\n",
    "    # Create a PDF reader object\n",
    "    pdf_reader = PyPDF2.PdfReader(pdf_file)\n",
    "\n",
    "    # Extract the text from all of the pages in the PDF file\n",
    "    text = \"\"\n",
    "    for page in pdf_reader.pages:\n",
    "        text += page.extract_text()\n",
    "        \n",
    "    pdf_file.close()\n",
    "\n",
    "    with open(os.path.join(txt_path, f'{os.path.splitext(pdf)[0]}.txt'), 'w', encoding=\"utf-8\") as output_file:\n",
    "        output_file.write(text)"
   ]
  },
  {
   "cell_type": "markdown",
   "metadata": {},
   "source": [
    "## Créer un grand fichier 'corpus': commande bash\n",
    "\n",
    "Avant d'exécuter le code qui suit, vous pouvez préalablement récupérer l'échantillon complet au format `.txt` sur l'UV et les déposer dans le dossier `./data/txt`\n",
    "\n",
    "- `cat` permet d'imprimer le contenu de fichiers textes\n",
    "- Un pattern (ici `../*.txt`) permet d'appliquer la commande sur tous les fichiers qui matchent\n",
    "- `>` permet de rediriger le résultat de la commande précédente dans un fichier\n",
    "\n",
    "Pour en savoir plus sur les flux de redirections :\n",
    "https://openclassrooms.com/fr/courses/43538-reprenez-le-controle-a-laide-de-linux/40444-les-flux-de-redirection"
   ]
  },
  {
   "cell_type": "code",
   "execution_count": 7,
   "metadata": {
    "tags": []
   },
   "outputs": [
    {
     "name": "stderr",
     "output_type": "stream",
     "text": [
      "'cat' is not recognized as an internal or external command,\n",
      "operable program or batch file.\n"
     ]
    }
   ],
   "source": [
    "!cat ../data/txt/*.txt > ../data/all.txt"
   ]
  },
  {
   "cell_type": "markdown",
   "metadata": {},
   "source": [
    "Pour les utilisateurs Windows, si la commande `cat` ne fonctionne pas, vous pouvez également réaliser l'opération directement en Python:"
   ]
  },
  {
   "cell_type": "code",
   "execution_count": 8,
   "metadata": {},
   "outputs": [],
   "source": [
    "with open(\"../data/all.txt\", \"w\", encoding=\"utf-8\") as output_file:\n",
    "    for file in os.listdir(txt_path):\n",
    "        if file.endswith(\".txt\"):\n",
    "            with open(os.path.join(txt_path, file), \"r\", encoding=\"utf-8\") as f:\n",
    "                output_file.write(f.read())\n"
   ]
  },
  {
   "cell_type": "markdown",
   "metadata": {},
   "source": [
    "## Compter le nombre de mots dans l'ensemble du corpus"
   ]
  },
  {
   "cell_type": "code",
   "execution_count": 9,
   "metadata": {
    "tags": []
   },
   "outputs": [
    {
     "name": "stderr",
     "output_type": "stream",
     "text": [
      "'wc' is not recognized as an internal or external command,\n",
      "operable program or batch file.\n"
     ]
    }
   ],
   "source": [
    "!wc ../data/all.txt\n"
   ]
  },
  {
   "cell_type": "markdown",
   "metadata": {},
   "source": [
    "On obtient ici, dans l'ordre, le nombre de lignes, de mots, d'octets.\n",
    "\n",
    "Pour en savoir plus sur la commande wc: https://fr.wikipedia.org/wiki/Wc_(Unix)\n",
    "\n",
    "**Attention:** la commande `wc` ne fonctionne pas toujours sur Windows. Ne vous inquiétez pas, ce n'est pas crucial pour la suite du cours."
   ]
  }
 ],
 "metadata": {
  "kernelspec": {
   "display_name": "tac_venv (3.11.9)",
   "language": "python",
   "name": "python3"
  },
  "language_info": {
   "codemirror_mode": {
    "name": "ipython",
    "version": 3
   },
   "file_extension": ".py",
   "mimetype": "text/x-python",
   "name": "python",
   "nbconvert_exporter": "python",
   "pygments_lexer": "ipython3",
   "version": "3.11.9"
  }
 },
 "nbformat": 4,
 "nbformat_minor": 4
}
